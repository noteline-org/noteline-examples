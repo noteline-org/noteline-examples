{
 "cells": [
  {
   "cell_type": "code",
   "execution_count": 5,
   "metadata": {},
   "outputs": [
    {
     "name": "stdout",
     "output_type": "stream",
     "text": [
      "Requirement already satisfied: noteline-kf==0.2.3 in /opt/conda/lib/python3.7/site-packages (0.2.3)\n",
      "Requirement already satisfied: smart-open in /opt/conda/lib/python3.7/site-packages (from noteline-kf==0.2.3) (2.0.0)\n",
      "Requirement already satisfied: kfp in /opt/conda/lib/python3.7/site-packages (from noteline-kf==0.2.3) (0.5.0)\n",
      "Requirement already satisfied: noteline-sdk-core>=2.2 in /opt/conda/lib/python3.7/site-packages (from noteline-kf==0.2.3) (2.2.4)\n",
      "Requirement already satisfied: boto in /opt/conda/lib/python3.7/site-packages (from smart-open->noteline-kf==0.2.3) (2.49.0)\n",
      "Requirement already satisfied: requests in /opt/conda/lib/python3.7/site-packages (from smart-open->noteline-kf==0.2.3) (2.23.0)\n",
      "Requirement already satisfied: boto3 in /opt/conda/lib/python3.7/site-packages (from smart-open->noteline-kf==0.2.3) (1.13.1)\n",
      "Requirement already satisfied: kubernetes<12.0.0,>=8.0.0 in /opt/conda/lib/python3.7/site-packages (from kfp->noteline-kf==0.2.3) (10.0.1)\n",
      "Requirement already satisfied: PyYAML in /opt/conda/lib/python3.7/site-packages (from kfp->noteline-kf==0.2.3) (5.3)\n",
      "Requirement already satisfied: Deprecated in /opt/conda/lib/python3.7/site-packages (from kfp->noteline-kf==0.2.3) (1.2.9)\n",
      "Requirement already satisfied: strip-hints in /opt/conda/lib/python3.7/site-packages (from kfp->noteline-kf==0.2.3) (0.1.8)\n",
      "Requirement already satisfied: click in /opt/conda/lib/python3.7/site-packages (from kfp->noteline-kf==0.2.3) (7.0)\n",
      "Requirement already satisfied: google-cloud-storage>=1.13.0 in /opt/conda/lib/python3.7/site-packages (from kfp->noteline-kf==0.2.3) (1.26.0)\n",
      "Requirement already satisfied: requests-toolbelt>=0.8.0 in /opt/conda/lib/python3.7/site-packages (from kfp->noteline-kf==0.2.3) (0.9.1)\n",
      "Requirement already satisfied: kfp-server-api<0.6.0,>=0.2.5 in /opt/conda/lib/python3.7/site-packages (from kfp->noteline-kf==0.2.3) (0.5.0)\n",
      "Requirement already satisfied: cloudpickle in /opt/conda/lib/python3.7/site-packages (from kfp->noteline-kf==0.2.3) (1.3.0)\n",
      "Requirement already satisfied: argo-models==2.2.1a in /opt/conda/lib/python3.7/site-packages (from kfp->noteline-kf==0.2.3) (2.2.1a0)\n",
      "Requirement already satisfied: tabulate in /opt/conda/lib/python3.7/site-packages (from kfp->noteline-kf==0.2.3) (0.8.7)\n",
      "Requirement already satisfied: jsonschema>=3.0.1 in /opt/conda/lib/python3.7/site-packages (from kfp->noteline-kf==0.2.3) (3.2.0)\n",
      "Requirement already satisfied: google-auth>=1.6.1 in /opt/conda/lib/python3.7/site-packages (from kfp->noteline-kf==0.2.3) (1.11.2)\n",
      "Requirement already satisfied: nbformat in /opt/conda/lib/python3.7/site-packages (from noteline-sdk-core>=2.2->noteline-kf==0.2.3) (5.0.4)\n",
      "Requirement already satisfied: chardet<4,>=3.0.2 in /opt/conda/lib/python3.7/site-packages (from requests->smart-open->noteline-kf==0.2.3) (3.0.4)\n",
      "Requirement already satisfied: certifi>=2017.4.17 in /opt/conda/lib/python3.7/site-packages (from requests->smart-open->noteline-kf==0.2.3) (2019.11.28)\n",
      "Requirement already satisfied: urllib3!=1.25.0,!=1.25.1,<1.26,>=1.21.1 in /opt/conda/lib/python3.7/site-packages (from requests->smart-open->noteline-kf==0.2.3) (1.25.7)\n",
      "Requirement already satisfied: idna<3,>=2.5 in /opt/conda/lib/python3.7/site-packages (from requests->smart-open->noteline-kf==0.2.3) (2.9)\n",
      "Requirement already satisfied: s3transfer<0.4.0,>=0.3.0 in /opt/conda/lib/python3.7/site-packages (from boto3->smart-open->noteline-kf==0.2.3) (0.3.3)\n",
      "Requirement already satisfied: botocore<1.17.0,>=1.16.1 in /opt/conda/lib/python3.7/site-packages (from boto3->smart-open->noteline-kf==0.2.3) (1.16.1)\n",
      "Requirement already satisfied: jmespath<1.0.0,>=0.7.1 in /opt/conda/lib/python3.7/site-packages (from boto3->smart-open->noteline-kf==0.2.3) (0.9.5)\n",
      "Requirement already satisfied: setuptools>=21.0.0 in /opt/conda/lib/python3.7/site-packages (from kubernetes<12.0.0,>=8.0.0->kfp->noteline-kf==0.2.3) (45.2.0.post20200209)\n",
      "Requirement already satisfied: websocket-client!=0.40.0,!=0.41.*,!=0.42.*,>=0.32.0 in /opt/conda/lib/python3.7/site-packages (from kubernetes<12.0.0,>=8.0.0->kfp->noteline-kf==0.2.3) (0.57.0)\n",
      "Requirement already satisfied: six>=1.9.0 in /opt/conda/lib/python3.7/site-packages (from kubernetes<12.0.0,>=8.0.0->kfp->noteline-kf==0.2.3) (1.14.0)\n",
      "Requirement already satisfied: python-dateutil>=2.5.3 in /opt/conda/lib/python3.7/site-packages (from kubernetes<12.0.0,>=8.0.0->kfp->noteline-kf==0.2.3) (2.8.1)\n",
      "Requirement already satisfied: requests-oauthlib in /opt/conda/lib/python3.7/site-packages (from kubernetes<12.0.0,>=8.0.0->kfp->noteline-kf==0.2.3) (1.2.0)\n",
      "Requirement already satisfied: wrapt<2,>=1.10 in /opt/conda/lib/python3.7/site-packages (from Deprecated->kfp->noteline-kf==0.2.3) (1.12.0)\n",
      "Requirement already satisfied: wheel in /opt/conda/lib/python3.7/site-packages (from strip-hints->kfp->noteline-kf==0.2.3) (0.34.2)\n",
      "Requirement already satisfied: google-resumable-media<0.6dev,>=0.5.0 in /opt/conda/lib/python3.7/site-packages (from google-cloud-storage>=1.13.0->kfp->noteline-kf==0.2.3) (0.5.0)\n",
      "Requirement already satisfied: google-cloud-core<2.0dev,>=1.2.0 in /opt/conda/lib/python3.7/site-packages (from google-cloud-storage>=1.13.0->kfp->noteline-kf==0.2.3) (1.3.0)\n",
      "Requirement already satisfied: attrs>=17.4.0 in /opt/conda/lib/python3.7/site-packages (from jsonschema>=3.0.1->kfp->noteline-kf==0.2.3) (19.3.0)\n",
      "Requirement already satisfied: pyrsistent>=0.14.0 in /opt/conda/lib/python3.7/site-packages (from jsonschema>=3.0.1->kfp->noteline-kf==0.2.3) (0.15.7)\n",
      "Requirement already satisfied: importlib-metadata; python_version < \"3.8\" in /opt/conda/lib/python3.7/site-packages (from jsonschema>=3.0.1->kfp->noteline-kf==0.2.3) (1.5.0)\n",
      "Requirement already satisfied: cachetools<5.0,>=2.0.0 in /opt/conda/lib/python3.7/site-packages (from google-auth>=1.6.1->kfp->noteline-kf==0.2.3) (3.1.1)\n",
      "Requirement already satisfied: rsa<4.1,>=3.1.4 in /opt/conda/lib/python3.7/site-packages (from google-auth>=1.6.1->kfp->noteline-kf==0.2.3) (4.0)\n",
      "Requirement already satisfied: pyasn1-modules>=0.2.1 in /opt/conda/lib/python3.7/site-packages (from google-auth>=1.6.1->kfp->noteline-kf==0.2.3) (0.2.7)\n",
      "Requirement already satisfied: jupyter-core in /opt/conda/lib/python3.7/site-packages (from nbformat->noteline-sdk-core>=2.2->noteline-kf==0.2.3) (4.6.3)\n",
      "Requirement already satisfied: ipython-genutils in /opt/conda/lib/python3.7/site-packages (from nbformat->noteline-sdk-core>=2.2->noteline-kf==0.2.3) (0.2.0)\n",
      "Requirement already satisfied: traitlets>=4.1 in /opt/conda/lib/python3.7/site-packages (from nbformat->noteline-sdk-core>=2.2->noteline-kf==0.2.3) (4.3.3)\n",
      "Requirement already satisfied: docutils<0.16,>=0.10 in /opt/conda/lib/python3.7/site-packages (from botocore<1.17.0,>=1.16.1->boto3->smart-open->noteline-kf==0.2.3) (0.15.2)\n",
      "Requirement already satisfied: oauthlib>=3.0.0 in /opt/conda/lib/python3.7/site-packages (from requests-oauthlib->kubernetes<12.0.0,>=8.0.0->kfp->noteline-kf==0.2.3) (3.0.1)\n",
      "Requirement already satisfied: google-api-core<2.0.0dev,>=1.16.0 in /opt/conda/lib/python3.7/site-packages (from google-cloud-core<2.0dev,>=1.2.0->google-cloud-storage>=1.13.0->kfp->noteline-kf==0.2.3) (1.16.0)\n",
      "Requirement already satisfied: zipp>=0.5 in /opt/conda/lib/python3.7/site-packages (from importlib-metadata; python_version < \"3.8\"->jsonschema>=3.0.1->kfp->noteline-kf==0.2.3) (3.0.0)\n",
      "Requirement already satisfied: pyasn1>=0.1.3 in /opt/conda/lib/python3.7/site-packages (from rsa<4.1,>=3.1.4->google-auth>=1.6.1->kfp->noteline-kf==0.2.3) (0.4.8)\n",
      "Requirement already satisfied: decorator in /opt/conda/lib/python3.7/site-packages (from traitlets>=4.1->nbformat->noteline-sdk-core>=2.2->noteline-kf==0.2.3) (4.4.1)\n",
      "Requirement already satisfied: pytz in /opt/conda/lib/python3.7/site-packages (from google-api-core<2.0.0dev,>=1.16.0->google-cloud-core<2.0dev,>=1.2.0->google-cloud-storage>=1.13.0->kfp->noteline-kf==0.2.3) (2019.3)\n",
      "Requirement already satisfied: protobuf>=3.4.0 in /opt/conda/lib/python3.7/site-packages (from google-api-core<2.0.0dev,>=1.16.0->google-cloud-core<2.0dev,>=1.2.0->google-cloud-storage>=1.13.0->kfp->noteline-kf==0.2.3) (3.11.0)\n",
      "Requirement already satisfied: googleapis-common-protos<2.0dev,>=1.6.0 in /opt/conda/lib/python3.7/site-packages (from google-api-core<2.0.0dev,>=1.16.0->google-cloud-core<2.0dev,>=1.2.0->google-cloud-storage>=1.13.0->kfp->noteline-kf==0.2.3) (1.51.0)\n",
      "Note: you may need to restart the kernel to use updated packages.\n"
     ]
    }
   ],
   "source": [
    "%pip install noteline-kf==0.2.3 "
   ]
  },
  {
   "cell_type": "code",
   "execution_count": 15,
   "metadata": {},
   "outputs": [
    {
     "name": "stdout",
     "output_type": "stream",
     "text": [
      "Copying file://./train.ipynb [Content-Type=application/octet-stream]...\n",
      "/ [1 files][ 27.7 KiB/ 27.7 KiB]                                                \n",
      "Operation completed over 1 objects/27.7 KiB.                                     \n",
      "Copying file://./clean.ipynb [Content-Type=application/octet-stream]...\n",
      "/ [1 files][ 11.9 KiB/ 11.9 KiB]                                                \n",
      "Operation completed over 1 objects/11.9 KiB.                                     \n"
     ]
    }
   ],
   "source": [
    "# Change bucket name here and in the notebooks\n",
    "GCS_BUCKET_NAME = \"vkovalevskyi-test\"\n",
    "\n",
    "TRAIN_NOTEBOOK_GCS_PATH = \"gs://{}/train.ipynb\".format(GCS_BUCKET_NAME)\n",
    "TRAIN_NOTEBOOK_OUT_GCS_PATH = TRAIN_NOTEBOOK_GCS_PATH.replace(\".ipynb\", \"-out.ipynb\")\n",
    "\n",
    "CLEAN_NOTEBOOK_GCS_PATH = \"gs://{}/clean.ipynb\".format(GCS_BUCKET_NAME)\n",
    "CLEAN_NOTEBOOK_OUT_GCS_PATH = CLEAN_NOTEBOOK_GCS_PATH.replace(\".ipynb\", \"-out.ipynb\")\n",
    "\n",
    "!gsutil cp ./train.ipynb gs://{GCS_BUCKET_NAME}/\n",
    "!gsutil cp ./clean.ipynb gs://{GCS_BUCKET_NAME}/"
   ]
  },
  {
   "cell_type": "code",
   "execution_count": 16,
   "metadata": {},
   "outputs": [],
   "source": [
    "import kfp\n",
    "\n",
    "from noteline.kf import noteline_nb_op"
   ]
  },
  {
   "cell_type": "code",
   "execution_count": 17,
   "metadata": {},
   "outputs": [],
   "source": [
    "KFP_URL = \"https://1a6f94c726ac91f4-dot-us-west1.pipelines.googleusercontent.com/\"\n",
    "# Pipeline URL, something like: \"https://1a6f94c726ac91f4-dot-us-west1.pipelines.googleusercontent.com/\"\n",
    "\n",
    "PIPELINE_FILE_NAME = \"pipeline.tar.gz\"\n",
    "PIPELINE_NAME = \"notebooks-pipeline-demo\"\n",
    "EXPERIMENT_NAME = \"demo-experiment\"\n",
    "RUN_NAME = \"demo-run\""
   ]
  },
  {
   "cell_type": "code",
   "execution_count": 18,
   "metadata": {},
   "outputs": [
    {
     "data": {
      "text/html": [
       "Pipeline link <a href=https://1a6f94c726ac91f4-dot-us-west1.pipelines.googleusercontent.com//#/pipelines/details/bb8b5584-d781-4fa1-8194-40dc529191a7>here</a>"
      ],
      "text/plain": [
       "<IPython.core.display.HTML object>"
      ]
     },
     "metadata": {},
     "output_type": "execute_result"
    }
   ],
   "source": [
    "def notebooks_pipeline():\n",
    "    clean_op = noteline_nb_op.NotelineNbOp(notebook_in=CLEAN_NOTEBOOK_GCS_PATH,\n",
    "                                           notebook_out=CLEAN_NOTEBOOK_OUT_GCS_PATH,\n",
    "                                           op_name=\"clean-nb\")\n",
    "    train_op = noteline_nb_op.NotelineNbOp(notebook_in=TRAIN_NOTEBOOK_GCS_PATH,\n",
    "                                           notebook_out=TRAIN_NOTEBOOK_OUT_GCS_PATH,\n",
    "                                           op_name=\"train-nb\").after(clean_op)\n",
    "\n",
    "kfp.compiler.Compiler().compile(notebooks_pipeline, PIPELINE_FILE_NAME)\n",
    "client = kfp.Client(host=kfp_url)\n",
    "pipeline_info = client.upload_pipeline(PIPELINE_FILE_NAME, pipeline_name=PIPELINE_NAME)"
   ]
  },
  {
   "cell_type": "code",
   "execution_count": 19,
   "metadata": {},
   "outputs": [
    {
     "data": {
      "text/html": [
       "Experiment link <a href=\"https://1a6f94c726ac91f4-dot-us-west1.pipelines.googleusercontent.com//#/experiments/details/4a0782c3-4f82-4273-a486-96ce3b61384d\" target=\"_blank\" >here</a>"
      ],
      "text/plain": [
       "<IPython.core.display.HTML object>"
      ]
     },
     "metadata": {},
     "output_type": "execute_result"
    },
    {
     "data": {
      "text/html": [
       "Run link <a href=\"https://1a6f94c726ac91f4-dot-us-west1.pipelines.googleusercontent.com//#/runs/details/fe55b6cd-76b7-4e1c-a0de-3835f86c941e\" target=\"_blank\" >here</a>"
      ],
      "text/plain": [
       "<IPython.core.display.HTML object>"
      ]
     },
     "metadata": {},
     "output_type": "execute_result"
    }
   ],
   "source": [
    "# Create a new experiment\n",
    "experiment = client.create_experiment(name=EXPERIMENT_NAME)\n",
    "\n",
    "# Create a new run associated with experiment and our uploaded pipeline\n",
    "run = client.run_pipeline(experiment.id, RUN_NAME, pipeline_id=pipeline_info.id)"
   ]
  },
  {
   "cell_type": "code",
   "execution_count": null,
   "metadata": {},
   "outputs": [],
   "source": []
  }
 ],
 "metadata": {
  "kernelspec": {
   "display_name": "Python 3",
   "language": "python",
   "name": "python3"
  },
  "language_info": {
   "codemirror_mode": {
    "name": "ipython",
    "version": 3
   },
   "file_extension": ".py",
   "mimetype": "text/x-python",
   "name": "python",
   "nbconvert_exporter": "python",
   "pygments_lexer": "ipython3",
   "version": "3.7.6"
  }
 },
 "nbformat": 4,
 "nbformat_minor": 4
}
